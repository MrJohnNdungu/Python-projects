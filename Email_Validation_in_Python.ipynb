{
  "nbformat": 4,
  "nbformat_minor": 0,
  "metadata": {
    "colab": {
      "provenance": []
    },
    "kernelspec": {
      "name": "python3",
      "display_name": "Python 3"
    },
    "language_info": {
      "name": "python"
    }
  },
  "cells": [
    {
      "cell_type": "code",
      "execution_count": 2,
      "metadata": {
        "colab": {
          "base_uri": "https://localhost:8080/"
        },
        "id": "33M7h3GHtiUt",
        "outputId": "d9af2ef5-9c19-4f56-e825-c2743de75824"
      },
      "outputs": [
        {
          "output_type": "stream",
          "name": "stdout",
          "text": [
            "jmburu7@gmail.com is a valid email address.\n"
          ]
        }
      ],
      "source": [
        "import re\n",
        "\n",
        "def validate_email(email):\n",
        "    # Define the regex pattern for an email\n",
        "    pattern = r\"^[a-zA-Z0-9_.+-]+@[a-zA-Z0-9-]+\\.[a-zA-Z0-9-.]+$\"\n",
        "    \n",
        "    # Use the match method to check if the email matches the pattern\n",
        "    if re.match(pattern, email):\n",
        "        return True\n",
        "    else:\n",
        "        return False\n",
        "\n",
        "# Test the function\n",
        "email = \"jmburu7@gmail.com\"\n",
        "if validate_email(email):\n",
        "    print(f\"{email} is a valid email address.\")\n",
        "else:\n",
        "    print(f\"{email} is not a valid email address.\")"
      ]
    },
    {
      "cell_type": "markdown",
      "source": [
        "Code Explanation:\n",
        "\n",
        "1. **Import the re module**: This module provides support for regular expressions in Python. **bold text**\n",
        "\n",
        "2. **Define the validate_email function**: This function takes an email address as an argument and checks if it matches the defined pattern.\n",
        "\n",
        "3. **Define the regex pattern for an email**: The pattern **'r\"^[a-zA-Z0-9_.+-]+@[a-zA-Z0-9-]+\\.[a-zA-Z0-9-.]+$\"'** is a regular expression that matches a typical email address format. Here's what it means:\n",
        "\n",
        "\n",
        "*   **'^'**  asserts start of a line.\n",
        "*  **'[a-zA-Z0-9_.+-]+'**  matches 1 or more alphanumeric characters or . _ + - before the @ symbol.\n",
        "*   '@'  matches the @ symbol.\n",
        "* **'[a-zA-Z0-9-]+'**  matches 1 or more alphanumeric characters or - after the @ symbol (for domain name). \n",
        "*   **'\\.'**  matches the . symbol.\n",
        "*   **'[a-zA-Z0-9-.]+'**  matches 1 or more alphanumeric characters or . - after the . symbol (for TLDs).\n",
        "*   **'$'**  asserts end of a line.\n",
        "\n",
        "4. **Use the re.match method**: This method checks if the email matches the pattern. If it does, the method returns a match object. If it doesn't, it returns **'None'**.\n",
        "\n",
        "5. **Return True or False:** If the email matches the pattern, the function returns **'True'**. If it doesn't, it returns **'False'**.\n",
        "\n",
        "6. **Test the function**: Finally, we test the function with a sample email address."
      ],
      "metadata": {
        "id": "zrq-ac_KuWQ5"
      }
    }
  ]
}