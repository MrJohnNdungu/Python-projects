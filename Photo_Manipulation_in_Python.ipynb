{
  "nbformat": 4,
  "nbformat_minor": 0,
  "metadata": {
    "colab": {
      "provenance": []
    },
    "kernelspec": {
      "name": "python3",
      "display_name": "Python 3"
    },
    "language_info": {
      "name": "python"
    }
  },
  "cells": [
    {
      "cell_type": "code",
      "source": [
        "from PIL import Image\n",
        "from pathlib import Path\n",
        "\n",
        "# Load the image\n",
        "image_path = Path(\"image.jpg\")\n",
        "image = Image.open(image_path)\n",
        "\n",
        "# Manipulate the image\n",
        "# Rotate the image by 90 degrees counter-clockwise\n",
        "rotated_image = image.rotate(90)\n",
        "\n",
        "# Resize the image to a smaller size\n",
        "resized_image = rotated_image.resize((400, 400))\n",
        "\n",
        "# Crop a portion of the image\n",
        "crop_area = (100, 100, 300, 300)  # (left, upper, right, lower)\n",
        "cropped_image = resized_image.crop(crop_area)\n",
        "\n",
        "# Apply a filter (grayscale)\n",
        "filtered_image = cropped_image.convert(\"L\")\n",
        "\n",
        "# Adjust brightness and contrast\n",
        "adjusted_image = filtered_image.point(lambda x: x * 1.2)\n",
        "\n",
        "# Save the modified image\n",
        "output_path = Path(\"output.jpg\")\n",
        "adjusted_image.save(output_path)\n",
        "\n",
        "# Step 5: Display the modified image\n",
        "adjusted_image.show()"
      ],
      "metadata": {
        "id": "x8D0D_I0us12"
      },
      "execution_count": null,
      "outputs": []
    }
  ]
}