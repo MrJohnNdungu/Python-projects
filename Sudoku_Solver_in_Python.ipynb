{
  "nbformat": 4,
  "nbformat_minor": 0,
  "metadata": {
    "colab": {
      "provenance": []
    },
    "kernelspec": {
      "name": "python3",
      "display_name": "Python 3"
    },
    "language_info": {
      "name": "python"
    }
  },
  "cells": [
    {
      "cell_type": "code",
      "execution_count": 1,
      "metadata": {
        "colab": {
          "base_uri": "https://localhost:8080/"
        },
        "id": "L_M90hx225Qv",
        "outputId": "8beba48f-9d73-412d-b889-66666ccc55e5"
      },
      "outputs": [
        {
          "output_type": "stream",
          "name": "stdout",
          "text": [
            "Sudoku board:\n"
          ]
        },
        {
          "output_type": "execute_result",
          "data": {
            "text/plain": [
              "<function __main__.print_board(board)>"
            ]
          },
          "metadata": {},
          "execution_count": 1
        }
      ],
      "source": [
        "def solve_sudoku(board):\n",
        "    # Find an empty cell in the board\n",
        "    empty_cell = find_empty_cell(board)\n",
        "\n",
        "    # If there are no empty cells, the board is solved\n",
        "    if not empty_cell:\n",
        "        return True\n",
        "\n",
        "    row, col = empty_cell\n",
        "\n",
        "    # Try different numbers from 1 to 9\n",
        "    for num in range(1, 10):\n",
        "        # Check if the number is valid in the current cell\n",
        "        if is_valid(board, num, row, col):\n",
        "            # Place the valid number in the current cell\n",
        "            board[row][col] = num\n",
        "\n",
        "            # Recursively solve the remaining board\n",
        "            if solve_sudoku(board):\n",
        "                return True\n",
        "\n",
        "            # If the current placement leads to an unsolvable board, backtrack\n",
        "            board[row][col] = 0\n",
        "\n",
        "    # If no numbers can be placed in the current cell, backtrack\n",
        "    return False\n",
        "\n",
        "\n",
        "def find_empty_cell(board):\n",
        "    # Find the first empty cell (represented by 0) in the board\n",
        "    for row in range(9):\n",
        "        for col in range(9):\n",
        "            if board[row][col] == 0:\n",
        "                return (row, col)\n",
        "    return None\n",
        "\n",
        "\n",
        "def is_valid(board, num, row, col):\n",
        "    # Check if the number is valid in the current row\n",
        "    if num in board[row]:\n",
        "        return False\n",
        "\n",
        "    # Check if the number is valid in the current column\n",
        "    for i in range(9):\n",
        "        if board[i][col] == num:\n",
        "            return False\n",
        "\n",
        "    # Check if the number is valid in the current 3x3 box\n",
        "    box_start_row = (row // 3) * 3\n",
        "    box_start_col = (col // 3) * 3\n",
        "    for i in range(box_start_row, box_start_row + 3):\n",
        "        for j in range(box_start_col, box_start_col + 3):\n",
        "            if board[i][j] == num:\n",
        "                return False\n",
        "\n",
        "    # If the number is valid in all checks, it can be placed in the current cell\n",
        "    return True\n",
        "\n",
        "\n",
        "def print_board(board):\n",
        "    # Print the board in a readable format\n",
        "    for row in board:\n",
        "        print(row)\n",
        "\n",
        "\n",
        "# Test the Sudoku solver\n",
        "board = [\n",
        "    [5, 3, 0, 0, 7, 0, 0, 0, 0],\n",
        "    [6, 0, 0, 1, 9, 5, 0, 0, 0],\n",
        "    [0, 9, 8, 0, 0, 0, 0, 6, 0],\n",
        "    [8, 0, 0, 0, 6, 0, 0, 0, 3],\n",
        "    [4, 0, 0, 8, 0, 3, 0, 0, 1],\n",
        "    [7, 0, 0, 0, 2, 0, 0, 0, 6],\n",
        "    [0, 6, 0, 0, 0, 0, 2, 8, 0],\n",
        "    [0, 0, 0, 4, 1, 9, 0, 0, 5],\n",
        "    [0, 0, 0, 0, 8, 0, 0, 7, 9]\n",
        "]\n",
        "\n",
        "print(\"Sudoku board:\")\n",
        "print_board\n"
      ]
    }
  ]
}